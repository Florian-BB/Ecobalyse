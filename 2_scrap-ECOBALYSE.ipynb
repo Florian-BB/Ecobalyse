{
 "cells": [
  {
   "cell_type": "markdown",
   "metadata": {},
   "source": [
    "Scrap Ecobalyse"
   ]
  },
  {
   "cell_type": "code",
   "execution_count": 1,
   "metadata": {},
   "outputs": [],
   "source": [
    "import requests\n",
    "from bs4 import BeautifulSoup as bs\n",
    "\n",
    "# Récupération des soupes\n",
    "\n",
    "req = requests.get('https://ecobalyse.beta.gouv.fr/api/textile/countries')\n",
    "countries_soup = bs(req.content,'html.parser')\n",
    "\n",
    "\n",
    "req = requests.get(\"https://ecobalyse.beta.gouv.fr/api/textile/materials\")\n",
    "materials_soup = bs(req.content,'html.parser')\n",
    "\n",
    "\n",
    "req = requests.get('https://ecobalyse.beta.gouv.fr/api/textile/products')\n",
    "products_soup = bs(req.content,'html.parser')\n",
    "\n",
    "\n",
    "req = requests.get('https://ecobalyse.beta.gouv.fr/#/explore/textile/impacts')\n",
    "impacts_soup = bs(req.content,'html.parser')"
   ]
  },
  {
   "cell_type": "code",
   "execution_count": 32,
   "metadata": {},
   "outputs": [
    {
     "name": "stdout",
     "output_type": "stream",
     "text": [
      "[{\"code\":\"AL\",\"name\":\"Albanie\"},{\"code\":\"BD\",\"name\":\"Bangladesh\"},{\"code\":\"BE\",\"name\":\"Belgique\"},{\"code\":\"CH\",\"name\":\"Suisse\"},{\"code\":\"CN\",\"name\":\"Chine\"},{\"code\":\"CZ\",\"name\":\"Tchèquie\"},{\"code\":\"DE\",\"name\":\"Allemagne\"},{\"code\":\"EG\",\"name\":\"Egypte\"},{\"code\":\"ES\",\"name\":\"Espagne\"},{\"code\":\"ET\",\"name\":\"Ethiopie\"},{\"code\":\"FR\",\"name\":\"France\"},{\"code\":\"GB\",\"name\":\"Royaume-Uni\"},{\"code\":\"GR\",\"name\":\"Grèce\"},{\"code\":\"HU\",\"name\":\"Hongrie\"},{\"code\":\"IN\",\"name\":\"Inde\"},{\"code\":\"IT\",\"name\":\"Italie\"},{\"code\":\"KH\",\"name\":\"Cambodge\"},{\"code\":\"MA\",\"name\":\"Maroc\"},{\"code\":\"MM\",\"name\":\"Myanmar\"},{\"code\":\"NL\",\"name\":\"Pays-Bas\"},{\"code\":\"PK\",\"name\":\"Pakistan\"},{\"code\":\"PL\",\"name\":\"Pologne\"},{\"code\":\"PT\",\"name\":\"Portugal\"},{\"code\":\"RO\",\"name\":\"Roumanie\"},{\"code\":\"LK\",\"name\":\"Sri Lanka\"},{\"code\":\"TN\",\"name\":\"Tunisie\"},{\"code\":\"TR\",\"name\":\"Turquie\"},{\"code\":\"TW\",\"name\":\"Taiwan\"},{\"code\":\"VN\",\"name\":\"Vietnam\"}]\n",
      "{\"code\":\"AL\",\"name\":\"Albanie\"},{\"code\":\"BD\",\"name\":\"Bangladesh\"},{\"code\":\"BE\",\"name\":\"Belgique\"},{\"code\":\"CH\",\"name\":\"Suisse\"},{\"code\":\"CN\",\"name\":\"Chine\"},{\"code\":\"CZ\",\"name\":\"Tchèquie\"},{\"code\":\"DE\",\"name\":\"Allemagne\"},{\"code\":\"EG\",\"name\":\"Egypte\"},{\"code\":\"ES\",\"name\":\"Espagne\"},{\"code\":\"ET\",\"name\":\"Ethiopie\"},{\"code\":\"FR\",\"name\":\"France\"},{\"code\":\"GB\",\"name\":\"Royaume-Uni\"},{\"code\":\"GR\",\"name\":\"Grèce\"},{\"code\":\"HU\",\"name\":\"Hongrie\"},{\"code\":\"IN\",\"name\":\"Inde\"},{\"code\":\"IT\",\"name\":\"Italie\"},{\"code\":\"KH\",\"name\":\"Cambodge\"},{\"code\":\"MA\",\"name\":\"Maroc\"},{\"code\":\"MM\",\"name\":\"Myanmar\"},{\"code\":\"NL\",\"name\":\"Pays-Bas\"},{\"code\":\"PK\",\"name\":\"Pakistan\"},{\"code\":\"PL\",\"name\":\"Pologne\"},{\"code\":\"PT\",\"name\":\"Portugal\"},{\"code\":\"RO\",\"name\":\"Roumanie\"},{\"code\":\"LK\",\"name\":\"Sri Lanka\"},{\"code\":\"TN\",\"name\":\"Tunisie\"},{\"code\":\"TR\",\"name\":\"Turquie\"},{\"code\":\"TW\",\"name\":\"Taiwan\"},{\"code\":\"VN\",\"name\":\"Vietnam\"}\n",
      "{\"code\":\"AL\",\"name\":\"Albanie\"},{\"code\":\"BD\",\"name\":\"Bangladesh\"},{\"code\":\"BE\",\"name\":\"Belgique\"},{\"code\":\"CH\",\"name\":\"Suisse\"},{\"code\":\"CN\",\"name\":\"Chine\"},{\"code\":\"CZ\",\"name\":\"Tchèquie\"},{\"code\":\"DE\",\"name\":\"Allemagne\"},{\"code\":\"EG\",\"name\":\"Egypte\"},{\"code\":\"ES\",\"name\":\"Espagne\"},{\"code\":\"ET\",\"name\":\"Ethiopie\"},{\"code\":\"FR\",\"name\":\"France\"},{\"code\":\"GB\",\"name\":\"Royaume-Uni\"},{\"code\":\"GR\",\"name\":\"Grèce\"},{\"code\":\"HU\",\"name\":\"Hongrie\"},{\"code\":\"IN\",\"name\":\"Inde\"},{\"code\":\"IT\",\"name\":\"Italie\"},{\"code\":\"KH\",\"name\":\"Cambodge\"},{\"code\":\"MA\",\"name\":\"Maroc\"},{\"code\":\"MM\",\"name\":\"Myanmar\"},{\"code\":\"NL\",\"name\":\"Pays-Bas\"},{\"code\":\"PK\",\"name\":\"Pakistan\"},{\"code\":\"PL\",\"name\":\"Pologne\"},{\"code\":\"PT\",\"name\":\"Portugal\"},{\"code\":\"RO\",\"name\":\"Roumanie\"},{\"code\":\"LK\",\"name\":\"Sri Lanka\"},{\"code\":\"TN\",\"name\":\"Tunisie\"},{\"code\":\"TR\",\"name\":\"Turquie\"},{\"code\":\"TW\",\"name\":\"Taiwan\"},{\"code\":\"VN\",\"name\":\"Vietnam\"}\n"
     ]
    }
   ],
   "source": [
    "import json\n",
    "\n",
    "print(countries_soup)\n",
    "countries_str = str(countries_soup) # Transforme la soupe en string\n",
    "countries_str = countries_str[1:]\n",
    "countries_str = countries_str[:-1]\n",
    "print(countries_str)\n",
    "#countries_list = countries_str.split(\",\") # Transforme la string en liste\n",
    "countries_list = []\n",
    "countries_list.append(countries_str)\n",
    "for country in countries_list :\n",
    "    #countries_json = json.loads(country)\n",
    "    print(country)\n",
    "\n"
   ]
  },
  {
   "cell_type": "markdown",
   "metadata": {},
   "source": [
    "Simple request"
   ]
  },
  {
   "cell_type": "markdown",
   "metadata": {},
   "source": [
    "\n",
    "data =     {\n",
    "    \"mass\": 0.17,\n",
    "    \"materials\": [\n",
    "        {\n",
    "        \"id\": \"coton\",\n",
    "        \"share\": 1,\n",
    "        \"country\": \"FR\"\n",
    "        }\n",
    "    ],\n",
    "    \"product\": \"tshirt\",\n",
    "    \"countrySpinning\": \"FR\",\n",
    "    \"countryFabric\": \"FR\",\n",
    "    \"countryDyeing\": \"FR\",\n",
    "    \"countryMaking\": \"FR\",\n",
    "    \"fabricProcess\": \"knitting-mix\"\n",
    "    }\n",
    "\n",
    "    "
   ]
  },
  {
   "cell_type": "code",
   "execution_count": null,
   "metadata": {},
   "outputs": [],
   "source": []
  }
 ],
 "metadata": {
  "kernelspec": {
   "display_name": "Python 3",
   "language": "python",
   "name": "python3"
  },
  "language_info": {
   "codemirror_mode": {
    "name": "ipython",
    "version": 3
   },
   "file_extension": ".py",
   "mimetype": "text/x-python",
   "name": "python",
   "nbconvert_exporter": "python",
   "pygments_lexer": "ipython3",
   "version": "3.10.12"
  }
 },
 "nbformat": 4,
 "nbformat_minor": 2
}
