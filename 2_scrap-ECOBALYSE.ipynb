{
 "cells": [
  {
   "cell_type": "markdown",
   "metadata": {},
   "source": [
    "Scrap Ecobalyse"
   ]
  },
  {
   "cell_type": "code",
   "execution_count": null,
   "metadata": {},
   "outputs": [],
   "source": [
    "import requests\n",
    "from bs4 import BeautifulSoup as bs\n",
    "\n",
    "# Récupération des soupes\n",
    "\n",
    "req = requests.get('https://ecobalyse.beta.gouv.fr/api/textile/countries')\n",
    "countries_soup = bs(req.content,'html.parser')\n",
    "\n",
    "\n",
    "req = requests.get(\"https://ecobalyse.beta.gouv.fr/api/textile/materials\")\n",
    "materials_soup = bs(req.content,'html.parser')\n",
    "\n",
    "\n",
    "req = requests.get('https://ecobalyse.beta.gouv.fr/api/textile/products')\n",
    "products_soup = bs(req.content,'html.parser')\n",
    "\n",
    "\n",
    "req = requests.get('https://ecobalyse.beta.gouv.fr/#/explore/textile/impacts')\n",
    "impacts_soup = bs(req.content,'html.parser')"
   ]
  },
  {
   "cell_type": "markdown",
   "metadata": {},
   "source": [
    "Simple request"
   ]
  },
  {
   "cell_type": "markdown",
   "metadata": {},
   "source": [
    "\n",
    "data =     {\n",
    "    \"mass\": 0.17,\n",
    "    \"materials\": [\n",
    "        {\n",
    "        \"id\": \"coton\",\n",
    "        \"share\": 1,\n",
    "        \"country\": \"FR\"\n",
    "        }\n",
    "    ],\n",
    "    \"product\": \"tshirt\",\n",
    "    \"countrySpinning\": \"FR\",\n",
    "    \"countryFabric\": \"FR\",\n",
    "    \"countryDyeing\": \"FR\",\n",
    "    \"countryMaking\": \"FR\",\n",
    "    \"fabricProcess\": \"knitting-mix\"\n",
    "    }\n",
    "\n",
    "    "
   ]
  }
 ],
 "metadata": {
  "kernelspec": {
   "display_name": "Python 3",
   "language": "python",
   "name": "python3"
  },
  "language_info": {
   "name": "python",
   "version": "3.10.12"
  }
 },
 "nbformat": 4,
 "nbformat_minor": 2
}
