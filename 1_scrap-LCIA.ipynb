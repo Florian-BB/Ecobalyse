{
 "cells": [
  {
   "cell_type": "markdown",
   "metadata": {},
   "source": [
    "Récupération des données"
   ]
  },
  {
   "cell_type": "code",
   "execution_count": 2,
   "metadata": {},
   "outputs": [],
   "source": [
    "import requests\n",
    "from bs4 import BeautifulSoup as bs\n",
    "\n",
    "\n",
    "req = requests.get('https://eplca.jrc.ec.europa.eu/EF-SDP/LCIAMethodList.xhtml;jsessionid=38C8EAA487296B1BB51D9AA1A12F3B43?stock=default')\n",
    "list_indicators_soup = bs(req.content,'html.parser')\n"
   ]
  },
  {
   "cell_type": "code",
   "execution_count": 3,
   "metadata": {},
   "outputs": [],
   "source": [
    "all_indicators = list_indicators_soup.find_all('tr', class_=lambda value: value and value.startswith('ui-widget-content ui-datatable'))\n",
    "\n",
    "\n",
    "#for e in all_indicators:\n",
    "    #print(e)\n",
    "\n"
   ]
  },
  {
   "cell_type": "code",
   "execution_count": 5,
   "metadata": {},
   "outputs": [
    {
     "ename": "AttributeError",
     "evalue": "'NoneType' object has no attribute 'find'",
     "output_type": "error",
     "traceback": [
      "\u001b[0;31m---------------------------------------------------------------------------\u001b[0m",
      "\u001b[0;31mAttributeError\u001b[0m                            Traceback (most recent call last)",
      "Cell \u001b[0;32mIn[5], line 14\u001b[0m\n\u001b[1;32m     12\u001b[0m soup \u001b[38;5;241m=\u001b[39m bs(req\u001b[38;5;241m.\u001b[39mcontent,\u001b[38;5;124m'\u001b[39m\u001b[38;5;124mhtml.parser\u001b[39m\u001b[38;5;124m'\u001b[39m)\n\u001b[1;32m     13\u001b[0m second_i \u001b[38;5;241m=\u001b[39m soup\u001b[38;5;241m.\u001b[39mfind(\u001b[38;5;124m'\u001b[39m\u001b[38;5;124mtd\u001b[39m\u001b[38;5;124m'\u001b[39m, class_\u001b[38;5;241m=\u001b[39m\u001b[38;5;124m'\u001b[39m\u001b[38;5;124mdatasetBlock ui-widget-content\u001b[39m\u001b[38;5;124m'\u001b[39m)\n\u001b[0;32m---> 14\u001b[0m second_data1 \u001b[38;5;241m=\u001b[39m \u001b[43msecond_i\u001b[49m\u001b[38;5;241;43m.\u001b[39;49m\u001b[43mfind\u001b[49m(\u001b[38;5;124m'\u001b[39m\u001b[38;5;124ma\u001b[39m\u001b[38;5;124m'\u001b[39m)\n\u001b[1;32m     15\u001b[0m second_data2 \u001b[38;5;241m=\u001b[39m second_data1\u001b[38;5;241m.\u001b[39mfind_next(\u001b[38;5;124m'\u001b[39m\u001b[38;5;124ma\u001b[39m\u001b[38;5;124m'\u001b[39m)\n\u001b[1;32m     16\u001b[0m second_link \u001b[38;5;241m=\u001b[39m \u001b[38;5;124m\"\u001b[39m\u001b[38;5;124mhttps://eplca.jrc.ec.europa.eu\u001b[39m\u001b[38;5;124m\"\u001b[39m \u001b[38;5;241m+\u001b[39m second_data2\u001b[38;5;241m.\u001b[39mget(\u001b[38;5;124m\"\u001b[39m\u001b[38;5;124mhref\u001b[39m\u001b[38;5;124m\"\u001b[39m)\n",
      "\u001b[0;31mAttributeError\u001b[0m: 'NoneType' object has no attribute 'find'"
     ]
    }
   ],
   "source": [
    "names, urls, second_urls = [], [], []\n",
    "\n",
    "for i in all_indicators:\n",
    "    # Récupère le nom et le l'URL de chaque indicateur\n",
    "    data = i.find('a')\n",
    "    names.append(data.text)\n",
    "    link = \"https://eplca.jrc.ec.europa.eu\" + data.get(\"href\")\n",
    "    urls.append(link)\n",
    "\n",
    "    # Utilise le lien pour refaire une soupe et trouver le 2ème lien qui contient les informations\n",
    "    req = requests.get(link)\n",
    "    soup = bs(req.content,'html.parser')\n",
    "    second_i = soup.find('td', class_='datasetBlock ui-widget-content')\n",
    "    second_data1 = second_i.find('a')\n",
    "    second_data2 = second_data1.find_next('a')\n",
    "    second_link = \"https://eplca.jrc.ec.europa.eu\" + second_data2.get(\"href\")\n",
    "    second_urls.append(second_link)\n",
    "\n"
   ]
  },
  {
   "cell_type": "markdown",
   "metadata": {},
   "source": [
    "Vérification des liens et des noms que l'on a collecté"
   ]
  },
  {
   "cell_type": "code",
   "execution_count": 7,
   "metadata": {},
   "outputs": [
    {
     "name": "stdout",
     "output_type": "stream",
     "text": [
      "['EF-Acidification', 'EF-Climate change', 'EF-Climate change-Biogenic', 'EF-Climate change-Fossil', 'EF-Climate change-Land use and land use change', 'EF-Ecotoxicity, freshwater', 'EF-Eutrophication marine', 'EF-Eutrophication, freshwater', 'EF-Eutrophication, terrestrial', 'EF-Human toxicity, cancer']\n",
      "['https://eplca.jrc.ec.europa.eu/EF-SDP/showLCIAMethod.xhtml;jsessionid=956A7DD50F4E0A178909259D7D55025A?uuid=b5c611c6-def3-11e6-bf01-fe55135034f3&stock=default', 'https://eplca.jrc.ec.europa.eu/EF-SDP/showLCIAMethod.xhtml;jsessionid=956A7DD50F4E0A178909259D7D55025A?uuid=b2ad6d9a-c78d-11e6-9d9d-cec0c932ce01&stock=default', 'https://eplca.jrc.ec.europa.eu/EF-SDP/showLCIAMethod.xhtml;jsessionid=956A7DD50F4E0A178909259D7D55025A?uuid=0db6bc32-3f72-48b9-bdb3-617849c2752f&stock=default', 'https://eplca.jrc.ec.europa.eu/EF-SDP/showLCIAMethod.xhtml;jsessionid=956A7DD50F4E0A178909259D7D55025A?uuid=2105d3ac-c7c7-4c80-b202-7328c14c66e8&stock=default', 'https://eplca.jrc.ec.europa.eu/EF-SDP/showLCIAMethod.xhtml;jsessionid=956A7DD50F4E0A178909259D7D55025A?uuid=6f1b7d2a-eb2d-4b86-9b4d-2301b3186400&stock=default', 'https://eplca.jrc.ec.europa.eu/EF-SDP/showLCIAMethod.xhtml;jsessionid=956A7DD50F4E0A178909259D7D55025A?uuid=b5c623fa-def3-11e6-bf01-fe55135034f3&stock=default', 'https://eplca.jrc.ec.europa.eu/EF-SDP/showLCIAMethod.xhtml;jsessionid=956A7DD50F4E0A178909259D7D55025A?uuid=b5c619fa-def3-11e6-bf01-fe55135034f3&stock=default', 'https://eplca.jrc.ec.europa.eu/EF-SDP/showLCIAMethod.xhtml;jsessionid=956A7DD50F4E0A178909259D7D55025A?uuid=b53ec18f-7377-4ad3-86eb-cc3f4f276b2b&stock=default', 'https://eplca.jrc.ec.europa.eu/EF-SDP/showLCIAMethod.xhtml;jsessionid=956A7DD50F4E0A178909259D7D55025A?uuid=b5c614d2-def3-11e6-bf01-fe55135034f3&stock=default', 'https://eplca.jrc.ec.europa.eu/EF-SDP/showLCIAMethod.xhtml;jsessionid=956A7DD50F4E0A178909259D7D55025A?uuid=b5c621f2-def3-11e6-bf01-fe55135034f3&stock=default']\n",
      "['https://eplca.jrc.ec.europa.eu/EF-SDP/resource/lciamethods/b5c611c6-def3-11e6-bf01-fe55135034f3;jsessionid=956A7DD50F4E0A178909259D7D55025A?format=html&version=01.03.008&stock=default', 'https://eplca.jrc.ec.europa.eu/EF-SDP/resource/lciamethods/b2ad6d9a-c78d-11e6-9d9d-cec0c932ce01;jsessionid=956A7DD50F4E0A178909259D7D55025A?format=html&version=04.00.014&stock=default', 'https://eplca.jrc.ec.europa.eu/EF-SDP/resource/lciamethods/0db6bc32-3f72-48b9-bdb3-617849c2752f;jsessionid=956A7DD50F4E0A178909259D7D55025A?format=html&version=01.00.004&stock=default', 'https://eplca.jrc.ec.europa.eu/EF-SDP/resource/lciamethods/2105d3ac-c7c7-4c80-b202-7328c14c66e8;jsessionid=956A7DD50F4E0A178909259D7D55025A?format=html&version=01.00.006&stock=default', 'https://eplca.jrc.ec.europa.eu/EF-SDP/resource/lciamethods/6f1b7d2a-eb2d-4b86-9b4d-2301b3186400;jsessionid=956A7DD50F4E0A178909259D7D55025A?format=html&version=01.00.004&stock=default', 'https://eplca.jrc.ec.europa.eu/EF-SDP/resource/lciamethods/b5c623fa-def3-11e6-bf01-fe55135034f3;jsessionid=956A7DD50F4E0A178909259D7D55025A?format=html&version=02.00.011&stock=default', 'https://eplca.jrc.ec.europa.eu/EF-SDP/resource/lciamethods/b5c619fa-def3-11e6-bf01-fe55135034f3;jsessionid=956A7DD50F4E0A178909259D7D55025A?format=html&version=02.00.009&stock=default', 'https://eplca.jrc.ec.europa.eu/EF-SDP/resource/lciamethods/b53ec18f-7377-4ad3-86eb-cc3f4f276b2b;jsessionid=956A7DD50F4E0A178909259D7D55025A?format=html&version=01.00.009&stock=default', 'https://eplca.jrc.ec.europa.eu/EF-SDP/resource/lciamethods/b5c614d2-def3-11e6-bf01-fe55135034f3;jsessionid=956A7DD50F4E0A178909259D7D55025A?format=html&version=01.02.008&stock=default', 'https://eplca.jrc.ec.europa.eu/EF-SDP/resource/lciamethods/b5c621f2-def3-11e6-bf01-fe55135034f3;jsessionid=956A7DD50F4E0A178909259D7D55025A?format=html&version=01.00.011&stock=default']\n"
     ]
    }
   ],
   "source": [
    "# Vérification des liens et des noms que l'on a collecté\n",
    "print(names)\n",
    "print(urls)\n",
    "print(second_urls)"
   ]
  },
  {
   "cell_type": "markdown",
   "metadata": {},
   "source": [
    "Récupération des XMLs + Récupération des données"
   ]
  },
  {
   "cell_type": "code",
   "execution_count": 48,
   "metadata": {},
   "outputs": [
    {
     "name": "stderr",
     "output_type": "stream",
     "text": [
      "/home/ubuntuf/.local/lib/python3.10/site-packages/bs4/builder/__init__.py:545: XMLParsedAsHTMLWarning: It looks like you're parsing an XML document using an HTML parser. If this really is an HTML document (maybe it's XHTML?), you can ignore or filter this warning. If it's XML, you should know that using an XML parser will be more reliable. To parse this document as XML, make sure you have the lxml package installed, and pass the keyword argument `features=\"xml\"` into the BeautifulSoup constructor.\n",
      "  warnings.warn(\n"
     ]
    }
   ],
   "source": [
    "req = requests.get(second_urls[0])\n",
    "soup = bs(req.content,'lxml')\n",
    "\n",
    "# Récupération de toutes les lignes du fichiers\n",
    "rows = soup.find_all('factor')\n",
    "\n",
    "# Initialisation des listes qui vont contenir les données\n",
    "ids, references, locations, exchangedirections, meanvalues, status, comments = [], [], [], [], [], [], []\n",
    "\n",
    "# Scrapping des données\n",
    "for r in rows:\n",
    "    ref = r.find('referencetoflowdataset')\n",
    "    ids.append(ref['refobjectid'])\n",
    "    references.append(ref.text)\n",
    "    try: # Certains n'ont pas de location, j'ajoute un NaN\n",
    "        locations.append(r.find('location').text)\n",
    "    except:\n",
    "        locations.append(\"NaN\")\n",
    "\n",
    "    exchangedirections.append(r.find('exchangedirection').text)\n",
    "    meanvalues.append(r.find('meanvalue').text)\n",
    "    status.append(r.find('dataderivationtypestatus').text)\n",
    "    comments.append(r.find('generalcomment').text)\n",
    "\n",
    "\n"
   ]
  },
  {
   "cell_type": "code",
   "execution_count": 1,
   "metadata": {},
   "outputs": [
    {
     "name": "stderr",
     "output_type": "stream",
     "text": [
      "/tmp/ipykernel_9173/3157301892.py:1: DeprecationWarning: \n",
      "Pyarrow will become a required dependency of pandas in the next major release of pandas (pandas 3.0),\n",
      "(to allow more performant data types, such as the Arrow string type, and better interoperability with other libraries)\n",
      "but was not found to be installed on your system.\n",
      "If this would cause problems for you,\n",
      "please provide us feedback at https://github.com/pandas-dev/pandas/issues/54466\n",
      "        \n",
      "  import pandas as pd\n"
     ]
    },
    {
     "ename": "NameError",
     "evalue": "name 'ids' is not defined",
     "output_type": "error",
     "traceback": [
      "\u001b[0;31m---------------------------------------------------------------------------\u001b[0m",
      "\u001b[0;31mNameError\u001b[0m                                 Traceback (most recent call last)",
      "Cell \u001b[0;32mIn[1], line 3\u001b[0m\n\u001b[1;32m      1\u001b[0m \u001b[38;5;28;01mimport\u001b[39;00m \u001b[38;5;21;01mpandas\u001b[39;00m \u001b[38;5;28;01mas\u001b[39;00m \u001b[38;5;21;01mpd\u001b[39;00m\n\u001b[0;32m----> 3\u001b[0m data \u001b[38;5;241m=\u001b[39m {\u001b[38;5;124m'\u001b[39m\u001b[38;5;124mids\u001b[39m\u001b[38;5;124m'\u001b[39m: \u001b[43mids\u001b[49m,\n\u001b[1;32m      4\u001b[0m         \u001b[38;5;124m'\u001b[39m\u001b[38;5;124mreferences\u001b[39m\u001b[38;5;124m'\u001b[39m: references,\n\u001b[1;32m      5\u001b[0m         \u001b[38;5;124m'\u001b[39m\u001b[38;5;124mlocations\u001b[39m\u001b[38;5;124m'\u001b[39m : locations,\n\u001b[1;32m      6\u001b[0m         \u001b[38;5;124m'\u001b[39m\u001b[38;5;124mexchangedirections\u001b[39m\u001b[38;5;124m'\u001b[39m : exchangedirections,\n\u001b[1;32m      7\u001b[0m         \u001b[38;5;124m'\u001b[39m\u001b[38;5;124mmeanvalues\u001b[39m\u001b[38;5;124m'\u001b[39m : meanvalues,\n\u001b[1;32m      8\u001b[0m         \u001b[38;5;124m'\u001b[39m\u001b[38;5;124mstatus\u001b[39m\u001b[38;5;124m'\u001b[39m : status,\n\u001b[1;32m      9\u001b[0m         \u001b[38;5;124m'\u001b[39m\u001b[38;5;124mcomments\u001b[39m\u001b[38;5;124m'\u001b[39m : comments}\n\u001b[1;32m     12\u001b[0m df_impacts \u001b[38;5;241m=\u001b[39m pd\u001b[38;5;241m.\u001b[39mDataFrame(data \u001b[38;5;241m=\u001b[39m data)\n\u001b[1;32m     13\u001b[0m df_impacts\n",
      "\u001b[0;31mNameError\u001b[0m: name 'ids' is not defined"
     ]
    }
   ],
   "source": [
    "import pandas as pd\n",
    "\n",
    "data = {'ids': ids,\n",
    "        'references': references,\n",
    "        'locations' : locations,\n",
    "        'exchangedirections' : exchangedirections,\n",
    "        'meanvalues' : meanvalues,\n",
    "        'status' : status,\n",
    "        'comments' : comments}\n",
    "\n",
    "\n",
    "df_impacts = pd.DataFrame(data = data)\n",
    "df_impacts"
   ]
  }
 ],
 "metadata": {
  "kernelspec": {
   "display_name": "Python 3",
   "language": "python",
   "name": "python3"
  },
  "language_info": {
   "codemirror_mode": {
    "name": "ipython",
    "version": 3
   },
   "file_extension": ".py",
   "mimetype": "text/x-python",
   "name": "python",
   "nbconvert_exporter": "python",
   "pygments_lexer": "ipython3",
   "version": "3.10.12"
  }
 },
 "nbformat": 4,
 "nbformat_minor": 2
}
